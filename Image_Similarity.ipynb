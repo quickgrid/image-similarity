{
  "nbformat": 4,
  "nbformat_minor": 0,
  "metadata": {
    "colab": {
      "name": "Image Similarity.ipynb",
      "provenance": [],
      "collapsed_sections": []
    },
    "kernelspec": {
      "name": "python3",
      "display_name": "Python 3"
    },
    "accelerator": "GPU"
  },
  "cells": [
    {
      "cell_type": "code",
      "metadata": {
        "id": "SwFt2aQ2sKf2",
        "colab_type": "code",
        "colab": {
          "base_uri": "https://localhost:8080/",
          "height": 995
        },
        "outputId": "d9e38e5b-725e-4c19-a6a4-d9e697c7babc"
      },
      "source": [
        "!git clone https://github.com/quickgrid/image-similarity\n",
        "%cd image-similarity\n",
        "!pip3 install -r requirements.txt"
      ],
      "execution_count": 1,
      "outputs": [
        {
          "output_type": "stream",
          "text": [
            "Cloning into 'image-similarity'...\n",
            "remote: Enumerating objects: 66, done.\u001b[K\n",
            "remote: Total 66 (delta 0), reused 0 (delta 0), pack-reused 66\u001b[K\n",
            "Unpacking objects: 100% (66/66), done.\n",
            "/content/image-similarity\n",
            "Collecting h5py~=2.6.0\n",
            "\u001b[?25l  Downloading https://files.pythonhosted.org/packages/9a/33/33aad2a23437fdbb7e448f3b1fde8eb36efa63a00a5af1c1f46552e0dd9f/h5py-2.6.0-cp36-cp36m-manylinux1_x86_64.whl (4.8MB)\n",
            "\u001b[K     |████████████████████████████████| 4.8MB 2.7MB/s \n",
            "\u001b[?25hCollecting numpy~=1.14.5\n",
            "\u001b[?25l  Downloading https://files.pythonhosted.org/packages/e5/c4/395ebb218053ba44d64935b3729bc88241ec279915e72100c5979db10945/numpy-1.14.6-cp36-cp36m-manylinux1_x86_64.whl (13.8MB)\n",
            "\u001b[K     |████████████████████████████████| 13.8MB 237kB/s \n",
            "\u001b[?25hCollecting requests~=2.21.0\n",
            "\u001b[?25l  Downloading https://files.pythonhosted.org/packages/7d/e3/20f3d364d6c8e5d2353c72a67778eb189176f08e873c9900e10c0287b84b/requests-2.21.0-py2.py3-none-any.whl (57kB)\n",
            "\u001b[K     |████████████████████████████████| 61kB 7.6MB/s \n",
            "\u001b[?25hRequirement already satisfied: six in /usr/local/lib/python3.6/dist-packages (from h5py~=2.6.0->-r requirements.txt (line 1)) (1.15.0)\n",
            "Collecting idna<2.9,>=2.5\n",
            "\u001b[?25l  Downloading https://files.pythonhosted.org/packages/14/2c/cd551d81dbe15200be1cf41cd03869a46fe7226e7450af7a6545bfc474c9/idna-2.8-py2.py3-none-any.whl (58kB)\n",
            "\u001b[K     |████████████████████████████████| 61kB 7.6MB/s \n",
            "\u001b[?25hRequirement already satisfied: urllib3<1.25,>=1.21.1 in /usr/local/lib/python3.6/dist-packages (from requests~=2.21.0->-r requirements.txt (line 3)) (1.24.3)\n",
            "Requirement already satisfied: certifi>=2017.4.17 in /usr/local/lib/python3.6/dist-packages (from requests~=2.21.0->-r requirements.txt (line 3)) (2020.6.20)\n",
            "Requirement already satisfied: chardet<3.1.0,>=3.0.2 in /usr/local/lib/python3.6/dist-packages (from requests~=2.21.0->-r requirements.txt (line 3)) (3.0.4)\n",
            "\u001b[31mERROR: xarray 0.15.1 has requirement numpy>=1.15, but you'll have numpy 1.14.6 which is incompatible.\u001b[0m\n",
            "\u001b[31mERROR: umap-learn 0.4.6 has requirement numpy>=1.17, but you'll have numpy 1.14.6 which is incompatible.\u001b[0m\n",
            "\u001b[31mERROR: tifffile 2020.8.25 has requirement numpy>=1.15.1, but you'll have numpy 1.14.6 which is incompatible.\u001b[0m\n",
            "\u001b[31mERROR: tensorflow 2.3.0 has requirement h5py<2.11.0,>=2.10.0, but you'll have h5py 2.6.0 which is incompatible.\u001b[0m\n",
            "\u001b[31mERROR: tensorflow 2.3.0 has requirement numpy<1.19.0,>=1.16.0, but you'll have numpy 1.14.6 which is incompatible.\u001b[0m\n",
            "\u001b[31mERROR: spacy 2.2.4 has requirement numpy>=1.15.0, but you'll have numpy 1.14.6 which is incompatible.\u001b[0m\n",
            "\u001b[31mERROR: pymc3 3.7 has requirement h5py>=2.7.0, but you'll have h5py 2.6.0 which is incompatible.\u001b[0m\n",
            "\u001b[31mERROR: plotnine 0.6.0 has requirement numpy>=1.16.0, but you'll have numpy 1.14.6 which is incompatible.\u001b[0m\n",
            "\u001b[31mERROR: numba 0.48.0 has requirement numpy>=1.15, but you'll have numpy 1.14.6 which is incompatible.\u001b[0m\n",
            "\u001b[31mERROR: imgaug 0.2.9 has requirement numpy>=1.15.0, but you'll have numpy 1.14.6 which is incompatible.\u001b[0m\n",
            "\u001b[31mERROR: google-colab 1.0.0 has requirement requests~=2.23.0, but you'll have requests 2.21.0 which is incompatible.\u001b[0m\n",
            "\u001b[31mERROR: fastai 1.0.61 has requirement numpy>=1.15, but you'll have numpy 1.14.6 which is incompatible.\u001b[0m\n",
            "\u001b[31mERROR: datascience 0.10.6 has requirement folium==0.2.1, but you'll have folium 0.8.3 which is incompatible.\u001b[0m\n",
            "\u001b[31mERROR: cvxpy 1.0.31 has requirement numpy>=1.15, but you'll have numpy 1.14.6 which is incompatible.\u001b[0m\n",
            "\u001b[31mERROR: blis 0.4.1 has requirement numpy>=1.15.0, but you'll have numpy 1.14.6 which is incompatible.\u001b[0m\n",
            "\u001b[31mERROR: astropy 4.0.1.post1 has requirement numpy>=1.16, but you'll have numpy 1.14.6 which is incompatible.\u001b[0m\n",
            "\u001b[31mERROR: albumentations 0.1.12 has requirement imgaug<0.2.7,>=0.2.5, but you'll have imgaug 0.2.9 which is incompatible.\u001b[0m\n",
            "Installing collected packages: numpy, h5py, idna, requests\n",
            "  Found existing installation: numpy 1.18.5\n",
            "    Uninstalling numpy-1.18.5:\n",
            "      Successfully uninstalled numpy-1.18.5\n",
            "  Found existing installation: h5py 2.10.0\n",
            "    Uninstalling h5py-2.10.0:\n",
            "      Successfully uninstalled h5py-2.10.0\n",
            "  Found existing installation: idna 2.10\n",
            "    Uninstalling idna-2.10:\n",
            "      Successfully uninstalled idna-2.10\n",
            "  Found existing installation: requests 2.23.0\n",
            "    Uninstalling requests-2.23.0:\n",
            "      Successfully uninstalled requests-2.23.0\n",
            "Successfully installed h5py-2.6.0 idna-2.8 numpy-1.14.6 requests-2.21.0\n"
          ],
          "name": "stdout"
        },
        {
          "output_type": "display_data",
          "data": {
            "application/vnd.colab-display-data+json": {
              "pip_warning": {
                "packages": [
                  "numpy"
                ]
              }
            }
          },
          "metadata": {
            "tags": []
          }
        }
      ]
    },
    {
      "cell_type": "code",
      "metadata": {
        "id": "huu703DbshZK",
        "colab_type": "code",
        "colab": {
          "base_uri": "https://localhost:8080/",
          "height": 34
        },
        "outputId": "ac2baf8a-641c-44f3-dda9-968241b86f78"
      },
      "source": [
        "!pwd"
      ],
      "execution_count": 2,
      "outputs": [
        {
          "output_type": "stream",
          "text": [
            "/content/image-similarity\n"
          ],
          "name": "stdout"
        }
      ]
    },
    {
      "cell_type": "code",
      "metadata": {
        "id": "ewFJWTW0wJhC",
        "colab_type": "code",
        "colab": {
          "base_uri": "https://localhost:8080/",
          "height": 34
        },
        "outputId": "d5e300af-d756-4caa-d4aa-30057ed6491e"
      },
      "source": [
        "%cd /content/image-similarity/"
      ],
      "execution_count": 12,
      "outputs": [
        {
          "output_type": "stream",
          "text": [
            "/content/image-similarity\n"
          ],
          "name": "stdout"
        }
      ]
    },
    {
      "cell_type": "code",
      "metadata": {
        "id": "8-ZtOgpxwif7",
        "colab_type": "code",
        "colab": {
          "base_uri": "https://localhost:8080/",
          "height": 34
        },
        "outputId": "ffeb5924-88a9-4695-9cb9-0e2a41178d60"
      },
      "source": [
        "%cd /content/image-similarity/demo_override/"
      ],
      "execution_count": 16,
      "outputs": [
        {
          "output_type": "stream",
          "text": [
            "/content/image-similarity/demo_override\n"
          ],
          "name": "stdout"
        }
      ]
    },
    {
      "cell_type": "code",
      "metadata": {
        "id": "Kgdwbf9Ivfvt",
        "colab_type": "code",
        "colab": {
          "base_uri": "https://localhost:8080/",
          "height": 642
        },
        "outputId": "46ef6171-0f7f-4942-9a77-db34a7b39dd8"
      },
      "source": [
        "!python main_override.py"
      ],
      "execution_count": 34,
      "outputs": [
        {
          "output_type": "stream",
          "text": [
            "2020-09-14 09:00:30.218994: W tensorflow/core/common_runtime/gpu/gpu_bfc_allocator.cc:39] Overriding allow_growth setting because the TF_FORCE_GPU_ALLOW_GROWTH environment variable is set. Original config value was 0.\n",
            "Loading MobileNet.\n",
            "\n",
            "test1: download starts.\n",
            "WARNING:tensorflow:From /content/image-similarity/demo_override/model_util.py:89: Model.predict_generator (from tensorflow.python.keras.engine.training) is deprecated and will be removed in a future version.\n",
            "Instructions for updating:\n",
            "Please use Model.predict, which supports generators.\n",
            "test1: feature saved to `./__generated__/_test1_feature.h5`.\n",
            "test1: fields saved to `./__generated__/_test1_fields.csv`.\n",
            "test1: download succeeded.\n",
            "Amount: 6\n",
            "Time consumed: 0:00:02.201111\n",
            "\n",
            "test2: download starts.\n",
            "test2: feature saved to `./__generated__/_test2_feature.h5`.\n",
            "test2: fields saved to `./__generated__/_test2_fields.csv`.\n",
            "test2: download succeeded.\n",
            "Amount: 3\n",
            "Time consumed: 0:00:00.611324\n",
            "\n",
            "test1: feature loaded, shape (6, 1024)\n",
            "test1: fields loaded, length 6\n",
            "test2: feature loaded, shape (3, 1024)\n",
            "test2: fields loaded, length 3\n",
            "Iteration starts.\n",
            "Iteration finished: results saved to `result_similarity.csv`.\n",
            "Amount: 18 (6 * 3)\n",
            "Time consumed: 0:00:00.000723\n",
            "\n",
            "Row for source file 1, and column for source file 2.\n",
            "[[0.948813   0.9448001  0.9397377 ]\n",
            " [0.95347774 0.9448358  0.9403051 ]\n",
            " [0.9548033  0.9454946  0.94122565]\n",
            " [0.9606316  0.95158404 0.947394  ]\n",
            " [0.962132   0.95340186 0.9483455 ]\n",
            " [0.9667488  0.954113   0.9501308 ]]\n"
          ],
          "name": "stdout"
        }
      ]
    },
    {
      "cell_type": "code",
      "metadata": {
        "id": "vFUSB6dW_V0f",
        "colab_type": "code",
        "colab": {
          "base_uri": "https://localhost:8080/",
          "height": 34
        },
        "outputId": "0391bb93-64ad-4277-bf19-08aaa518ea22"
      },
      "source": [
        "!pwd"
      ],
      "execution_count": 39,
      "outputs": [
        {
          "output_type": "stream",
          "text": [
            "/content\n"
          ],
          "name": "stdout"
        }
      ]
    },
    {
      "cell_type": "code",
      "metadata": {
        "id": "8ygyrwCf_ITJ",
        "colab_type": "code",
        "colab": {}
      },
      "source": [
        "import pandas as pd\n",
        "pd.set_option('display.max_rows', 500)\n",
        "pd.set_option('display.max_columns', 500)\n",
        "pd.set_option('display.width', 1000)\n",
        "\n",
        "df1 = pd.read_csv('image-similarity/demo_override/result_similarity.csv', sep='\\t')"
      ],
      "execution_count": 61,
      "outputs": []
    },
    {
      "cell_type": "code",
      "metadata": {
        "id": "mJ0dUJkU_hjR",
        "colab_type": "code",
        "colab": {
          "base_uri": "https://localhost:8080/",
          "height": 151
        },
        "outputId": "b931c22b-88f2-4c78-a80c-2ed1eee9339e"
      },
      "source": [
        "print(df1.columns.values.tolist())\n",
        "\n",
        "print(df1)\n"
      ],
      "execution_count": 63,
      "outputs": [
        {
          "output_type": "stream",
          "text": [
            "['test1_id', 'test1_url', 'test2_id', 'test2_url', 'similarity']\n",
            "   test1_id                                 test1_url  test2_id                                 test2_url  similarity\n",
            "0         1   demo_custom/extracted_frames/frame0.jpg         1  demo_custom/extracted_frames/frame30.jpg     0.94881\n",
            "1         2   demo_custom/extracted_frames/frame5.jpg         1  demo_custom/extracted_frames/frame30.jpg     0.95348\n",
            "2         3  demo_custom/extracted_frames/frame10.jpg         1  demo_custom/extracted_frames/frame30.jpg     0.95480\n",
            "3         4  demo_custom/extracted_frames/frame15.jpg         1  demo_custom/extracted_frames/frame30.jpg     0.96063\n",
            "4         5  demo_custom/extracted_frames/frame20.jpg         1  demo_custom/extracted_frames/frame30.jpg     0.96213\n",
            "5         6  demo_custom/extracted_frames/frame25.jpg         1  demo_custom/extracted_frames/frame30.jpg     0.96675\n"
          ],
          "name": "stdout"
        }
      ]
    },
    {
      "cell_type": "markdown",
      "metadata": {
        "id": "5wojrcgh5qTS",
        "colab_type": "text"
      },
      "source": [
        "# Copy project folder to drive"
      ]
    },
    {
      "cell_type": "code",
      "metadata": {
        "id": "z5qxspDM-_5Z",
        "colab_type": "code",
        "colab": {}
      },
      "source": [
        "from google.colab import drive\n",
        "drive.mount('/content/drive')"
      ],
      "execution_count": null,
      "outputs": []
    },
    {
      "cell_type": "code",
      "metadata": {
        "id": "7n4pzmF653u5",
        "colab_type": "code",
        "colab": {
          "base_uri": "https://localhost:8080/",
          "height": 34
        },
        "outputId": "5c6684e6-6d87-48b7-b550-be0577099af5"
      },
      "source": [
        "!pwd"
      ],
      "execution_count": 35,
      "outputs": [
        {
          "output_type": "stream",
          "text": [
            "/content/image-similarity/demo_override\n"
          ],
          "name": "stdout"
        }
      ]
    },
    {
      "cell_type": "code",
      "metadata": {
        "id": "0I1EecZt6O4o",
        "colab_type": "code",
        "colab": {
          "base_uri": "https://localhost:8080/",
          "height": 34
        },
        "outputId": "a9b39b5f-3f14-48a3-ad83-1aa315454307"
      },
      "source": [
        "%cd /content/"
      ],
      "execution_count": 37,
      "outputs": [
        {
          "output_type": "stream",
          "text": [
            "/content\n"
          ],
          "name": "stdout"
        }
      ]
    },
    {
      "cell_type": "code",
      "metadata": {
        "id": "wY94RuyK5tp7",
        "colab_type": "code",
        "colab": {}
      },
      "source": [
        "!cp \"image-similarity\" -r \"/content/drive/My Drive/Delete/\""
      ],
      "execution_count": 38,
      "outputs": []
    }
  ]
}