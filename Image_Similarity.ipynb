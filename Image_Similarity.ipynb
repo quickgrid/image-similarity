{
  "nbformat": 4,
  "nbformat_minor": 0,
  "metadata": {
    "colab": {
      "name": "Image Similarity.ipynb",
      "provenance": [],
      "collapsed_sections": []
    },
    "kernelspec": {
      "name": "python3",
      "display_name": "Python 3"
    },
    "accelerator": "GPU"
  },
  "cells": [
    {
      "cell_type": "code",
      "metadata": {
        "id": "SwFt2aQ2sKf2",
        "colab_type": "code",
        "colab": {
          "base_uri": "https://localhost:8080/",
          "height": 151
        },
        "outputId": "9ebacf42-bcaf-4810-e667-859cd6d6af04"
      },
      "source": [
        "!git clone https://github.com/quickgrid/image-similarity\n",
        "%cd image-similarity\n",
        "#!pip3 install -r requirements.txt"
      ],
      "execution_count": 1,
      "outputs": [
        {
          "output_type": "stream",
          "text": [
            "Cloning into 'image-similarity'...\n",
            "remote: Enumerating objects: 39, done.\u001b[K\n",
            "remote: Counting objects: 100% (39/39), done.\u001b[K\n",
            "remote: Compressing objects: 100% (33/33), done.\u001b[K\n",
            "remote: Total 105 (delta 12), reused 28 (delta 5), pack-reused 66\u001b[K\n",
            "Receiving objects: 100% (105/105), 1.76 MiB | 1.30 MiB/s, done.\n",
            "Resolving deltas: 100% (40/40), done.\n",
            "/content/image-similarity\n"
          ],
          "name": "stdout"
        }
      ]
    },
    {
      "cell_type": "code",
      "metadata": {
        "id": "huu703DbshZK",
        "colab_type": "code",
        "colab": {
          "base_uri": "https://localhost:8080/",
          "height": 34
        },
        "outputId": "4f5039a4-3235-4407-9bc1-8daf8183ada4"
      },
      "source": [
        "!pwd"
      ],
      "execution_count": 2,
      "outputs": [
        {
          "output_type": "stream",
          "text": [
            "/content/image-similarity\n"
          ],
          "name": "stdout"
        }
      ]
    },
    {
      "cell_type": "code",
      "metadata": {
        "id": "8-ZtOgpxwif7",
        "colab_type": "code",
        "colab": {
          "base_uri": "https://localhost:8080/",
          "height": 34
        },
        "outputId": "5024e083-79a8-4f8e-f574-2746c6960a9d"
      },
      "source": [
        "%cd /content/image-similarity/demo_override/"
      ],
      "execution_count": 4,
      "outputs": [
        {
          "output_type": "stream",
          "text": [
            "/content/image-similarity/demo_override\n"
          ],
          "name": "stdout"
        }
      ]
    },
    {
      "cell_type": "code",
      "metadata": {
        "id": "Kgdwbf9Ivfvt",
        "colab_type": "code",
        "colab": {
          "base_uri": "https://localhost:8080/",
          "height": 642
        },
        "outputId": "15c3a4df-4786-44ba-f1ba-bb0d586bc3f6"
      },
      "source": [
        "!python main_override.py"
      ],
      "execution_count": 23,
      "outputs": [
        {
          "output_type": "stream",
          "text": [
            "2020-09-14 11:31:08.887816: W tensorflow/core/common_runtime/gpu/gpu_bfc_allocator.cc:39] Overriding allow_growth setting because the TF_FORCE_GPU_ALLOW_GROWTH environment variable is set. Original config value was 0.\n",
            "Loading MobileNet.\n",
            "\n",
            "test1: download starts.\n",
            "WARNING:tensorflow:From /content/image-similarity/demo_override/model_util.py:89: Model.predict_generator (from tensorflow.python.keras.engine.training) is deprecated and will be removed in a future version.\n",
            "Instructions for updating:\n",
            "Please use Model.predict, which supports generators.\n",
            "test1: feature saved to `./__generated__/_test1_feature.h5`.\n",
            "test1: fields saved to `./__generated__/_test1_fields.csv`.\n",
            "test1: download succeeded.\n",
            "Amount: 6\n",
            "Time consumed: 0:00:03.103250\n",
            "\n",
            "test2: download starts.\n",
            "test2: feature saved to `./__generated__/_test2_feature.h5`.\n",
            "test2: fields saved to `./__generated__/_test2_fields.csv`.\n",
            "test2: download succeeded.\n",
            "Amount: 3\n",
            "Time consumed: 0:00:00.540057\n",
            "\n",
            "test1: feature loaded, shape (6, 1024)\n",
            "test1: fields loaded, length 6\n",
            "test2: feature loaded, shape (3, 1024)\n",
            "test2: fields loaded, length 3\n",
            "Iteration starts.\n",
            "Iteration finished: results saved to `result_similarity.csv`.\n",
            "Amount: 18 (6 * 3)\n",
            "Time consumed: 0:00:00.000612\n",
            "\n",
            "Row for source file 1, and column for source file 2.\n",
            "[[0.948813   0.9448001  0.9397377 ]\n",
            " [0.95347774 0.9448358  0.9403051 ]\n",
            " [0.9548033  0.9454946  0.94122565]\n",
            " [0.9606316  0.95158404 0.947394  ]\n",
            " [0.962132   0.95340186 0.9483455 ]\n",
            " [0.9667488  0.954113   0.9501308 ]]\n"
          ],
          "name": "stdout"
        }
      ]
    },
    {
      "cell_type": "code",
      "metadata": {
        "id": "vFUSB6dW_V0f",
        "colab_type": "code",
        "colab": {
          "base_uri": "https://localhost:8080/",
          "height": 34
        },
        "outputId": "65b28fe3-753c-46e4-87cf-7bf428cc9652"
      },
      "source": [
        "!pwd"
      ],
      "execution_count": 24,
      "outputs": [
        {
          "output_type": "stream",
          "text": [
            "/content/image-similarity/demo_override\n"
          ],
          "name": "stdout"
        }
      ]
    },
    {
      "cell_type": "code",
      "metadata": {
        "id": "8ygyrwCf_ITJ",
        "colab_type": "code",
        "colab": {}
      },
      "source": [
        "import pandas as pd\n",
        "pd.set_option('display.max_rows', 500)\n",
        "pd.set_option('display.max_columns', 500)\n",
        "pd.set_option('display.width', 1000)\n",
        "\n",
        "df1 = pd.read_csv('result_similarity.csv', sep=',')"
      ],
      "execution_count": 25,
      "outputs": []
    },
    {
      "cell_type": "code",
      "metadata": {
        "id": "mJ0dUJkU_hjR",
        "colab_type": "code",
        "colab": {
          "base_uri": "https://localhost:8080/",
          "height": 171
        },
        "outputId": "a6516c04-f635-4b1d-a809-d002f6ba85c2"
      },
      "source": [
        "print(df1.columns.values.tolist())\n",
        "\n",
        "print(df1)\n"
      ],
      "execution_count": 26,
      "outputs": [
        {
          "output_type": "stream",
          "text": [
            "['test1_id', 'test1_url', 'test2_id', 'test2_url', 'similarity']\n",
            "   test1_id                                 test1_url  test2_id                                 test2_url  similarity\n",
            "0         1   demo_custom/extracted_frames/frame0.jpg         1  demo_custom/extracted_frames/frame30.jpg     0.94881\n",
            "1         2   demo_custom/extracted_frames/frame5.jpg         1  demo_custom/extracted_frames/frame30.jpg     0.95348\n",
            "2         3  demo_custom/extracted_frames/frame10.jpg         1  demo_custom/extracted_frames/frame30.jpg     0.95480\n",
            "3         4  demo_custom/extracted_frames/frame15.jpg         1  demo_custom/extracted_frames/frame30.jpg     0.96063\n",
            "4         5  demo_custom/extracted_frames/frame20.jpg         1  demo_custom/extracted_frames/frame30.jpg     0.96213\n",
            "5         6  demo_custom/extracted_frames/frame25.jpg         1  demo_custom/extracted_frames/frame30.jpg     0.96675\n"
          ],
          "name": "stdout"
        }
      ]
    },
    {
      "cell_type": "markdown",
      "metadata": {
        "id": "5wojrcgh5qTS",
        "colab_type": "text"
      },
      "source": [
        "# Copy project folder to drive"
      ]
    },
    {
      "cell_type": "code",
      "metadata": {
        "id": "z5qxspDM-_5Z",
        "colab_type": "code",
        "colab": {}
      },
      "source": [
        "from google.colab import drive\n",
        "drive.mount('/content/drive')"
      ],
      "execution_count": null,
      "outputs": []
    },
    {
      "cell_type": "code",
      "metadata": {
        "id": "7n4pzmF653u5",
        "colab_type": "code",
        "colab": {
          "base_uri": "https://localhost:8080/",
          "height": 34
        },
        "outputId": "5c6684e6-6d87-48b7-b550-be0577099af5"
      },
      "source": [
        "!pwd"
      ],
      "execution_count": 35,
      "outputs": [
        {
          "output_type": "stream",
          "text": [
            "/content/image-similarity/demo_override\n"
          ],
          "name": "stdout"
        }
      ]
    },
    {
      "cell_type": "code",
      "metadata": {
        "id": "0I1EecZt6O4o",
        "colab_type": "code",
        "colab": {
          "base_uri": "https://localhost:8080/",
          "height": 34
        },
        "outputId": "a9b39b5f-3f14-48a3-ad83-1aa315454307"
      },
      "source": [
        "%cd /content/"
      ],
      "execution_count": 37,
      "outputs": [
        {
          "output_type": "stream",
          "text": [
            "/content\n"
          ],
          "name": "stdout"
        }
      ]
    },
    {
      "cell_type": "code",
      "metadata": {
        "id": "wY94RuyK5tp7",
        "colab_type": "code",
        "colab": {}
      },
      "source": [
        "!cp \"image-similarity\" -r \"/content/drive/My Drive/Delete/\""
      ],
      "execution_count": 38,
      "outputs": []
    }
  ]
}